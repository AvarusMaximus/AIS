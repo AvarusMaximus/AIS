{
 "cells": [
  {
   "cell_type": "code",
   "execution_count": 2,
   "metadata": {},
   "outputs": [],
   "source": [
    "from sklearn.decomposition import PCA\n",
    "from sklearn.preprocessing import StandardScaler\n",
    "import pandas as pd"
   ]
  },
  {
   "cell_type": "code",
   "execution_count": 3,
   "metadata": {},
   "outputs": [],
   "source": [
    "data_healthy = pd.read_csv('pivot_table_healthy.csv')\n",
    "data_patient = pd.read_csv('pivot_table_patient.csv')"
   ]
  },
  {
   "cell_type": "code",
   "execution_count": null,
   "metadata": {},
   "outputs": [],
   "source": [
    "# Standardising the data\n",
    "scaled_healthy = StandardScaler().fit_transform(data_healthy)\n",
    "scaled_patient = StandardScaler().fit_transform(data_patient)"
   ]
  },
  {
   "cell_type": "code",
   "execution_count": null,
   "metadata": {},
   "outputs": [],
   "source": [
    "# Applying PCA\n",
    "pca_healthy = PCA(n_components=35)\n",
    "pca_patient = PCA(n_components=30)\n",
    "pc_healthy = pca_healthy.fit_transform(scaled_healthy)\n",
    "pc_patient = pca_patient.fit_transform(scaled_patient)"
   ]
  },
  {
   "cell_type": "code",
   "execution_count": null,
   "metadata": {},
   "outputs": [],
   "source": [
    "# This will give you a new DataFrame with the principal components:\n",
    "col_list_healthy = []\n",
    "col_list_patients = []\n",
    "for i in range(35):\n",
    "    col_list_healthy.append('PC' + str(i+1))\n",
    "for i in range(30):\n",
    "    col_list_patients.append('PC' + str(i+1))\n",
    "healthyDf = pd.DataFrame(data=pc_healthy, columns=col_list_healthy)\n",
    "patientDF = pd.DataFrame(data=pc_patient, columns=col_list_patients)"
   ]
  },
  {
   "cell_type": "code",
   "execution_count": null,
   "metadata": {},
   "outputs": [],
   "source": [
    "#Exporting the pca\n",
    "healthyDf.to_csv('pca_healthy.csv', index=False)\n",
    "patientDF.to_csv('pca_patient.csv', index=False)"
   ]
  }
 ],
 "metadata": {
  "kernelspec": {
   "display_name": "Python 3",
   "language": "python",
   "name": "python3"
  },
  "language_info": {
   "codemirror_mode": {
    "name": "ipython",
    "version": 3
   },
   "file_extension": ".py",
   "mimetype": "text/x-python",
   "name": "python",
   "nbconvert_exporter": "python",
   "pygments_lexer": "ipython3",
   "version": "3.11.6"
  }
 },
 "nbformat": 4,
 "nbformat_minor": 2
}
